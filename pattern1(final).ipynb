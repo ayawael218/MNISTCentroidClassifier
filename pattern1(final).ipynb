{
  "nbformat": 4,
  "nbformat_minor": 0,
  "metadata": {
    "colab": {
      "provenance": []
    },
    "kernelspec": {
      "name": "python3",
      "display_name": "Python 3"
    },
    "language_info": {
      "name": "python"
    }
  },
  "cells": [
    {
      "cell_type": "code",
      "execution_count": null,
      "metadata": {
        "colab": {
          "base_uri": "https://localhost:8080/"
        },
        "id": "UK_a_Gt9Kift",
        "outputId": "05750a88-75ed-4279-d3b6-eb5b24794d67"
      },
      "outputs": [
        {
          "output_type": "stream",
          "name": "stdout",
          "text": [
            "Validation Accuracy: 0.9262222222222222\n",
            "Test Accuracy: 0.9255\n"
          ]
        }
      ],
      "source": [
        "import numpy as np\n",
        "from sklearn.model_selection import train_test_split\n",
        "from sklearn.ensemble import RandomForestClassifier\n",
        "from sklearn.metrics import accuracy_score\n",
        "from tensorflow.keras.datasets import mnist\n",
        "\n",
        "# Load the MNIST dataset\n",
        "(x_train, y_train), (x_test, y_test) = mnist.load_data()\n",
        "\n",
        "# Function to divide each image into blocks and extract centroids\n",
        "def extract_centroids(image, num_blocks):\n",
        "    block_size = image.shape[0] // num_blocks\n",
        "    centroids = []\n",
        "    for i in range(num_blocks):\n",
        "        for j in range(num_blocks):\n",
        "            block = image[i*block_size:(i+1)*block_size, j*block_size:(j+1)*block_size]\n",
        "            centroid_x = np.mean(np.where(block == np.max(block))[0])\n",
        "            centroid_y = np.mean(np.where(block == np.max(block))[1])\n",
        "            centroids.append([centroid_x, centroid_y])\n",
        "    return np.array(centroids).flatten()\n",
        "\n",
        "# Number of blocks\n",
        "num_blocks = 9\n",
        "\n",
        "# Extract features using centroids\n",
        "x_train_features = np.array([extract_centroids(image, num_blocks) for image in x_train])\n",
        "x_test_features = np.array([extract_centroids(image, num_blocks) for image in x_test])\n",
        "\n",
        "# Split the data into training and testing sets\n",
        "x_train_split, x_val_split, y_train_split, y_val_split = train_test_split(x_train_features, y_train, test_size=0.3, random_state=42)\n",
        "\n",
        "# Initialize and train a RandomForestClassifier\n",
        "rf_classifier = RandomForestClassifier(n_estimators=100, random_state=42)\n",
        "rf_classifier.fit(x_train_split, y_train_split)\n",
        "\n",
        "# Predict on the validation set\n",
        "y_pred = rf_classifier.predict(x_val_split)\n",
        "\n",
        "# Calculate accuracy\n",
        "accuracy = accuracy_score(y_val_split, y_pred)\n",
        "print(\"Validation Accuracy:\", accuracy)\n",
        "\n",
        "# Evaluate on the test set\n",
        "test_accuracy = accuracy_score(y_test, rf_classifier.predict(x_test_features))\n",
        "print(\"Test Accuracy:\", test_accuracy)"
      ]
    }
  ]
}